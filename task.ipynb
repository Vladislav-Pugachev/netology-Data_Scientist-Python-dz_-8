{
 "cells": [
  {
   "cell_type": "markdown",
   "metadata": {},
   "source": [
    "# Задание 1"
   ]
  },
  {
   "cell_type": "code",
   "execution_count": 2,
   "metadata": {},
   "outputs": [
    {
     "name": "stdout",
     "output_type": "stream",
     "text": [
      "['АВ222К196', 'СН664А102']\n"
     ]
    }
   ],
   "source": [
    "import re\n",
    "car_id = 'АВ222К196 AN222E396 СН664А102 СM664А002'\n",
    "def find_car_id(car_id):\n",
    "    find_id= re.findall(r'[А|В|Е|К|М|Н|О|Р|С|Т|У|Х]{2}\\d{3}[А|В|Е|К|М|Н|О|Р|С|Т|У|Х][1-9]{1}\\d{1,2}', car_id)\n",
    "    print(find_id)\n",
    "find_car_id(car_id)"
   ]
  },
  {
   "cell_type": "markdown",
   "metadata": {},
   "source": [
    "# Задание 2"
   ]
  },
  {
   "cell_type": "code",
   "execution_count": 71,
   "metadata": {},
   "outputs": [
    {
     "data": {
      "text/plain": [
       "'Напишите функцию, которая будет удалять все последовательные повторы слов из заданной строки при помощи регулярных выражений'"
      ]
     },
     "execution_count": 71,
     "metadata": {},
     "output_type": "execute_result"
    }
   ],
   "source": [
    "import re\n",
    "some_string = '''Напишите функцию функцию, которая будет будет будет будет удалять все все все все последовательные повторы слов из из из из заданной строки строки при помощи регулярных выражений'''\n",
    "def delete_rep(some_string):\n",
    "    tr=re.sub(r'([;,\\s\\n]\\w+)\\1+', r'\\1', some_string)\n",
    "    return tr\n",
    "delete_rep(some_string)"
   ]
  },
  {
   "cell_type": "markdown",
   "metadata": {},
   "source": [
    "# Задание 3"
   ]
  },
  {
   "cell_type": "code",
   "execution_count": 129,
   "metadata": {},
   "outputs": [
    {
     "data": {
      "text/plain": [
       "'ИТ'"
      ]
     },
     "execution_count": 129,
     "metadata": {},
     "output_type": "execute_result"
    }
   ],
   "source": [
    "some_words = 'Информационные технологии'\n",
    "def make_akr(some_words):\n",
    "    result = ''.join([i.upper() for i in re.findall(r'\\b\\w',some_words)])\n",
    "    return result\n",
    "make_akr(some_words)"
   ]
  },
  {
   "cell_type": "markdown",
   "metadata": {},
   "source": [
    "# Задание 4"
   ]
  },
  {
   "cell_type": "code",
   "execution_count": 250,
   "metadata": {},
   "outputs": [
    {
     "name": "stdout",
     "output_type": "stream",
     "text": [
      "@gmail.com:\t2\n",
      "@test.in:\t1\n",
      "@ya.ru:\t2\n",
      "@mail.ru:\t1\n"
     ]
    }
   ],
   "source": [
    "emails = ['test@gmail.com, xyz@test.in, test@ya.ru, xyz@mail.ru, xyz@ya.ru', 'xyz@gmail.com']\n",
    "def count_emails(emails):\n",
    "    res = {i: len(re.findall(i, ', '.join(emails))) for i in re.findall(r'@\\w+.\\w+', ', '.join(emails))}\n",
    "    for i, j in res.items():\n",
    "        print(i,j, sep=':\\t') \n",
    "count_emails(emails)"
   ]
  }
 ],
 "metadata": {
  "kernelspec": {
   "display_name": "Python 3",
   "language": "python",
   "name": "python3"
  },
  "language_info": {
   "codemirror_mode": {
    "name": "ipython",
    "version": 3
   },
   "file_extension": ".py",
   "mimetype": "text/x-python",
   "name": "python",
   "nbconvert_exporter": "python",
   "pygments_lexer": "ipython3",
   "version": "3.8.5"
  }
 },
 "nbformat": 4,
 "nbformat_minor": 4
}
